{
 "cells": [
  {
   "cell_type": "code",
   "execution_count": 1,
   "metadata": {},
   "outputs": [],
   "source": [
    "import hw3.chunks as chunks\n",
    "import torch"
   ]
  },
  {
   "cell_type": "code",
   "execution_count": 5,
   "metadata": {},
   "outputs": [
    {
     "name": "stdout",
     "output_type": "stream",
     "text": [
      "Input file: models/lr-1e-2-base.pt.npy\n",
      "Output file: models/lr-1e-2-base.pt.npy.0\n",
      "Output file: models/lr-1e-2-base.pt.npy.1\n",
      "Output file: models/lr-1e-2-base.pt.npy.2\n",
      "Output file: models/lr-1e-2-base.pt.npy.3\n",
      "Output file: models/lr-1e-2-base.pt.npy.4\n",
      "Output file: models/lr-1e-2-base.pt.npy.5\n",
      "Output file: models/lr-1e-2-base.pt.npy.6\n",
      "Output file: models/lr-1e-2-base.pt.npy.7\n",
      "Output file: models/lr-1e-2-base.pt.npy.8\n"
     ]
    }
   ],
   "source": [
    "model_path = 'models/lr-1e-2-base.pt'  # saved torch state_dict\n",
    "numpy_path = model_path + '.npy'  # numpy dump of file\n",
    "chunk_path = model_path + '.npy.{}'  # format for each chunk\n",
    "\n",
    "\n",
    "# To write your model in chunks\n",
    "# Convert torch model to pickled numpy arrays\n",
    "chunks.torch_to_numpy(model_path, numpy_path)\n",
    "# Split pickled file into multiple chunks\n",
    "chunks.make_chunks(numpy_path, chunk_path)\n"
   ]
  },
  {
   "cell_type": "code",
   "execution_count": 7,
   "metadata": {},
   "outputs": [],
   "source": [
    "#import hw3.models as models \n",
    "#import hw3.chunks as chunks \n",
    "#import hw3.utils  as utils \n",
    "from hw3 import *\n",
    "\n",
    "def prediction(inp):\n",
    "    \"\"\"\n",
    "    Input is a text sequences. Produce scores for the next word in the sequence.\n",
    "    Scores should be raw logits not post-softmax activations.\n",
    "    Load your model before generating predictions.\n",
    "    :param inp: array of words (batch size, sequence length) [0-labels]\n",
    "    :return: array of scores for the next word in each sequence (batch size, labels)\n",
    "    \"\"\"\n",
    "    model_path = '../models/lr-adjusted.pt'\n",
    "    chunk_path = model_path + '.npy.{}'  # format for each chunk\n",
    "    data = chunks.read_chunks(chunk_path)\n",
    "    # Load the data\n",
    "    state_dict = chunks.load_from_numpy(data)\n",
    "    model = models.LSTMModelV2(33278, 400, 1150)\n",
    "    print(model)\n",
    "    # Load dictionary into your model\n",
    "    model.load_state_dict(state_dict)\n",
    "    model.eval()\n",
    "    out = model(utils.to_variable(utils.to_tensor(inp))).data.numpy()[:,-1,:]\n",
    "    return out\n"
   ]
  }
 ],
 "metadata": {
  "kernelspec": {
   "display_name": "Environment (conda_pytorch_p36)",
   "language": "python",
   "name": "conda_pytorch_p36"
  },
  "language_info": {
   "codemirror_mode": {
    "name": "ipython",
    "version": 3
   },
   "file_extension": ".py",
   "mimetype": "text/x-python",
   "name": "python",
   "nbconvert_exporter": "python",
   "pygments_lexer": "ipython3",
   "version": "3.6.3"
  }
 },
 "nbformat": 4,
 "nbformat_minor": 2
}
