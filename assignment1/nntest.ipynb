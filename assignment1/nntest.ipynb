{
 "cells": [
  {
   "cell_type": "code",
   "execution_count": 2,
   "metadata": {},
   "outputs": [],
   "source": [
    "import numpy as np"
   ]
  },
  {
   "cell_type": "code",
   "execution_count": 10,
   "metadata": {},
   "outputs": [
    {
     "name": "stdout",
     "output_type": "stream",
     "text": [
      "0,0.0625,0.375,0.9375,0.75,0.0625,0,0,0,0.4375,7\n",
      "\n",
      "0,0.0625,0.375,0.9375,0.75,0.0625,0,0,0,0.4375,9\n",
      "\n",
      "[[0.0, 0.0625, 0.375, 0.9375, 0.75, 0.0625, 0.0, 0.0, 0.0, 0.4375], [0.0, 0.0625, 0.375, 0.9375, 0.75, 0.0625, 0.0, 0.0, 0.0, 0.4375]]\n",
      "[7, 9]\n"
     ]
    }
   ],
   "source": [
    "X = []\n",
    "Y = []\n",
    "with open('file_test.txt','r') as file:\n",
    "    for line in file:\n",
    "            data_point = list(map(float,line.split(',')))\n",
    "            X.append(data_point[0:len(data_point)-1])\n",
    "            Y.append(int(data_point[-1]))\n",
    "            print(line)\n",
    "print(X)\n",
    "print(Y)\n",
    "            "
   ]
  },
  {
   "cell_type": "code",
   "execution_count": 13,
   "metadata": {},
   "outputs": [
    {
     "name": "stdout",
     "output_type": "stream",
     "text": [
      "[[0.0, 0.0625, 0.375, 0.9375, 0.75, 0.0625, 0.0, 0.0, 0.0, 0.4375], [0.0, 0.0625, 0.375, 0.9375, 0.75, 0.0625, 0.0, 0.0, 0.0, 0.4375]]\n",
      "[7, 9]\n"
     ]
    }
   ],
   "source": [
    "from skeleton import *\n",
    "path = 'file_test.txt'\n",
    "X,Y  = load_data(path)\n",
    "print(X)\n",
    "print(Y)"
   ]
  },
  {
   "cell_type": "code",
   "execution_count": 33,
   "metadata": {},
   "outputs": [],
   "source": [
    "def sigmoid(z):\n",
    "    return 1/(1+np.exp(-z))"
   ]
  },
  {
   "cell_type": "code",
   "execution_count": 45,
   "metadata": {},
   "outputs": [],
   "source": [
    "def relu(z):\n",
    "    return np.maximum(0,z)"
   ]
  },
  {
   "cell_type": "code",
   "execution_count": 40,
   "metadata": {},
   "outputs": [],
   "source": [
    "def softmax(y):\n",
    "    maxRemovedExp = np.exp(y-np.max(y))\n",
    "    return maxRemovedExp/np.sum(maxRemovedExp)"
   ]
  },
  {
   "cell_type": "code",
   "execution_count": 62,
   "metadata": {},
   "outputs": [
    {
     "name": "stdout",
     "output_type": "stream",
     "text": [
      "65.0879458663\n",
      "[[-0.01006198 -0.01005943 -0.01005688 ..., -0.00806963 -0.00806708\n",
      "  -0.00806453]\n",
      " [-0.00806198 -0.00805943 -0.00805688 ..., -0.00606963 -0.00606708\n",
      "  -0.00606453]\n",
      " [-0.00606198 -0.00605943 -0.00605688 ..., -0.00406963 -0.00406708\n",
      "  -0.00406453]\n",
      " ..., \n",
      " [ 0.00087928  0.00088183  0.00088438 ...,  0.00287162  0.00287417\n",
      "   0.00287673]\n",
      " [-0.00897025 -0.0089677  -0.00896515 ..., -0.0069779  -0.00697535\n",
      "  -0.0069728 ]\n",
      " [-0.06381296 -0.06381041 -0.06380785 ..., -0.06182061 -0.06181806\n",
      "  -0.06181551]]\n",
      "[ -6.19805235e-05  -6.19805235e-05  -6.19805235e-05  -6.19805235e-05\n",
      "  -6.19805235e-05   9.08643850e-02  -6.50551327e-04  -3.12072367e-03\n",
      "  -1.49702503e-02  -7.18129570e-02]\n"
     ]
    }
   ],
   "source": [
    "#forward pass and backprop with a single data point for a single layer network 784>10\n",
    "W1      = np.arange(-0.01,0.01,0.02/(10*784)).reshape(10,784)#\n",
    "b1      = np.zeros(10)\n",
    "lr      = 0.01\n",
    "loss    = 0\n",
    "\n",
    "for i in range(10):\n",
    "\n",
    "    sampleX = np.ones(784)\n",
    "    sampleY = 5\n",
    "    sampleYOneHot = np.zeros(10)\n",
    "    sampleYOneHot[sampleY] = 1\n",
    "\n",
    "    Z1 = np.dot(W1,sampleX) + b1\n",
    "    Y1 = relu(Z1)\n",
    "    output  = softmax(Y1)\n",
    "    loss   += -np.log(output[sampleY])\n",
    "    gradDivY1 = output-sampleYOneHot\n",
    "    reluJacobian = np.zeros(10)\n",
    "    reluJacobian[Y1>=0]=1\n",
    "    reluJacobian = np.eye(10)*reluJacobian\n",
    "    gradDivZ1 = gradDivY1.dot(reluJacobian)\n",
    "    gradDivb1 += gradDivZ1\n",
    "    gradDivW1 += np.outer(sampleX,gradDivZ1)\n",
    "    #back prop\n",
    "\n",
    "print(loss)\n",
    "T = 10\n",
    "W1 = W1 - lr*1/T*gradDivW1.T\n",
    "b1 = b1 - lr*1/T*gradDivb1.T\n",
    "print(W1)\n",
    "print(b1)"
   ]
  },
  {
   "cell_type": "code",
   "execution_count": null,
   "metadata": {},
   "outputs": [],
   "source": []
  }
 ],
 "metadata": {
  "kernelspec": {
   "display_name": "Python [default]",
   "language": "python",
   "name": "python3"
  },
  "language_info": {
   "codemirror_mode": {
    "name": "ipython",
    "version": 3
   },
   "file_extension": ".py",
   "mimetype": "text/x-python",
   "name": "python",
   "nbconvert_exporter": "python",
   "pygments_lexer": "ipython3",
   "version": "3.6.3"
  }
 },
 "nbformat": 4,
 "nbformat_minor": 2
}
