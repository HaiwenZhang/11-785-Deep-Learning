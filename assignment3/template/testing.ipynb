{
 "cells": [
  {
   "cell_type": "code",
   "execution_count": 6,
   "metadata": {},
   "outputs": [],
   "source": [
    "import numpy as np\n",
    "import torch\n",
    "import utils\n",
    "train_data, val_data, vocabulary = (\n",
    "                                    np.load('./dataset/wiki.train.npy'),\n",
    "                                    np.load('./dataset/wiki.valid.npy'),\n",
    "                                    np.load('./dataset/vocab.npy')\n",
    "                                   )"
   ]
  },
  {
   "cell_type": "code",
   "execution_count": 114,
   "metadata": {},
   "outputs": [
    {
     "name": "stdout",
     "output_type": "stream",
     "text": [
      "7091\n"
     ]
    }
   ],
   "source": [
    "np.random.shuffle(train_data)\n",
    "train_concat = np.concatenate(train_data)\n",
    "print(train_concat[1])"
   ]
  }
 ],
 "metadata": {
  "kernelspec": {
   "display_name": "Python (pytorch_p36)",
   "language": "python",
   "name": "pytorch_p36"
  },
  "language_info": {
   "codemirror_mode": {
    "name": "ipython",
    "version": 3
   },
   "file_extension": ".py",
   "mimetype": "text/x-python",
   "name": "python",
   "nbconvert_exporter": "python",
   "pygments_lexer": "ipython3",
   "version": "3.5.2"
  }
 },
 "nbformat": 4,
 "nbformat_minor": 2
}
