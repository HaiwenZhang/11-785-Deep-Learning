{
 "cells": [
  {
   "cell_type": "code",
   "execution_count": 1,
   "metadata": {},
   "outputs": [],
   "source": [
    "import numpy as np\n",
    "from Skeleton import *"
   ]
  },
  {
   "cell_type": "code",
   "execution_count": 2,
   "metadata": {},
   "outputs": [],
   "source": [
    "#PROBLEM ZERO TEST\n",
    "X,Y = load_data('digitstrain.txt')"
   ]
  },
  {
   "cell_type": "code",
   "execution_count": 3,
   "metadata": {},
   "outputs": [
    {
     "name": "stdout",
     "output_type": "stream",
     "text": [
      "7109.010465974623\n",
      "8441.278731323051\n",
      "10466.133956372774\n",
      "12676.092738413343\n",
      "14937.318720924466\n",
      "17214.926871501364\n",
      "19498.86962044513\n",
      "21785.865698450427\n",
      "24074.675360033158\n",
      "26364.743626582225\n"
     ]
    }
   ],
   "source": [
    "#PROBLEM ONE TEST\n",
    "weights = [np.arange(-0.01,0.01,0.02/(10*784)).reshape(10,784)]\n",
    "bias    = [np.zeros(10)]\n",
    "lr      = 0.01\n",
    "for i in range(10):\n",
    "    [weights,bias] = update_weights_perceptron(X, Y, weights, bias, lr)\n"
   ]
  },
  {
   "cell_type": "code",
   "execution_count": null,
   "metadata": {},
   "outputs": [],
   "source": []
  }
 ],
 "metadata": {
  "kernelspec": {
   "display_name": "Python 3",
   "language": "python",
   "name": "python3"
  },
  "language_info": {
   "codemirror_mode": {
    "name": "ipython",
    "version": 3
   },
   "file_extension": ".py",
   "mimetype": "text/x-python",
   "name": "python",
   "nbconvert_exporter": "python",
   "pygments_lexer": "ipython3",
   "version": "3.5.2"
  }
 },
 "nbformat": 4,
 "nbformat_minor": 2
}
